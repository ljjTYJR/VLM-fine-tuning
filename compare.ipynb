{
 "cells": [
  {
   "cell_type": "code",
   "execution_count": 1,
   "id": "a36b8612",
   "metadata": {},
   "outputs": [
    {
     "name": "stderr",
     "output_type": "stream",
     "text": [
      "comet_ml is installed but the Comet API Key is not configured. Please set the `COMET_API_KEY` environment variable to enable Comet logging. Check out the documentation for other ways of configuring it: https://www.comet.com/docs/v2/guides/experiment-management/configure-sdk/#set-the-api-key\n"
     ]
    },
    {
     "name": "stdout",
     "output_type": "stream",
     "text": [
      "Model parameters: {'pretrained_model_name_or_path': 'Qwen/Qwen2.5-VL-7B-Instruct', 'torch_dtype': torch.float16, 'device_map': 'auto'}\n"
     ]
    },
    {
     "data": {
      "application/vnd.jupyter.widget-view+json": {
       "model_id": "6ada1c5c3236434d984ce719f863e70c",
       "version_major": 2,
       "version_minor": 0
      },
      "text/plain": [
       "Loading checkpoint shards:   0%|          | 0/5 [00:00<?, ?it/s]"
      ]
     },
     "metadata": {},
     "output_type": "display_data"
    },
    {
     "name": "stderr",
     "output_type": "stream",
     "text": [
      "Repo card metadata block was not found. Setting CardData to empty.\n"
     ]
    }
   ],
   "source": [
    "# the main loop in the fine-tuning process\n",
    "import os\n",
    "from datasets import load_dataset\n",
    "from omegaconf import DictConfig, OmegaConf\n",
    "from ft_src.sft_trainer import CustomSFTTrainer\n",
    "from ft_src.model import Model\n",
    "import torch\n",
    "\n",
    "cfg = OmegaConf.load(\"cfg/qwen2_5-vl_train.yaml\")\n",
    "# 1. load the model\n",
    "vlm_model = Model(cfg['model'])\n",
    "\n",
    "# 2. load the data\n",
    "dataset = load_dataset(cfg.dataset.dataset_id, split='train')"
   ]
  },
  {
   "cell_type": "code",
   "execution_count": 2,
   "id": "3edeec4e",
   "metadata": {},
   "outputs": [],
   "source": [
    "from ft_src.sft_dataset import generate_description\n",
    "data_sample = dataset[100]\n",
    "original_hddl = generate_description(data_sample, vlm_model.model, vlm_model.processor)\n",
    "\n",
    "# load the lora model\n",
    "vlm_model.model.load_adapter(cfg.trainer.output_dir)\n",
    "ft_hddl = generate_description(data_sample, vlm_model.model, vlm_model.processor)"
   ]
  },
  {
   "cell_type": "code",
   "execution_count": 3,
   "id": "302cde5e",
   "metadata": {},
   "outputs": [
    {
     "data": {
      "text/html": [
       "<style type=\"text/css\">\n",
       "#T_6e3d6 td {\n",
       "  text-align: left;\n",
       "  white-space: pre-wrap;\n",
       "  font-family: \"Courier New\", monospace;\n",
       "  border: 1px solid black;\n",
       "  padding: 10px;\n",
       "  vertical-align: top;\n",
       "  width: 500px;\n",
       "  overflow-wrap: break-word;\n",
       "}\n",
       "#T_6e3d6 th {\n",
       "  text-align: left;\n",
       "  font-family: \"Courier New\", monospace;\n",
       "  border: 1px solid black;\n",
       "  padding: 10px;\n",
       "}\n",
       "</style>\n",
       "<table id=\"T_6e3d6\">\n",
       "  <thead>\n",
       "    <tr>\n",
       "      <th class=\"blank level0\" >&nbsp;</th>\n",
       "      <th id=\"T_6e3d6_level0_col0\" class=\"col_heading level0 col0\" >Base Generation</th>\n",
       "      <th id=\"T_6e3d6_level0_col1\" class=\"col_heading level0 col1\" >Fine-tuned Generation</th>\n",
       "    </tr>\n",
       "  </thead>\n",
       "  <tbody>\n",
       "    <tr>\n",
       "      <th id=\"T_6e3d6_level0_row0\" class=\"row_heading level0 row0\" >0</th>\n",
       "      <td id=\"T_6e3d6_row0_col0\" class=\"data row0 col0\" >```hddl\n",
       "(object banana wp1s)\n",
       "(object apple wp2s)\n",
       "(object scissors wp3s)\n",
       "(object tape wp4s)\n",
       "(object basket wp5s)\n",
       "\n",
       "(goal (at banana wp5f))\n",
       "(goal (at apple wp5f))\n",
       "\n",
       "(move_object banana wp5f)\n",
       "(move_object apple wp5f)\n",
       "(move_object scissors wp1f)\n",
       "(move_object tape wp1f)\n",
       "```</td>\n",
       "      <td id=\"T_6e3d6_row0_col1\" class=\"data row0 col1\" >(hddl\n",
       "  (objects (at food1 banana wp1s))\n",
       "  (at food2 apple wp2s)\n",
       "  (at container1 basket wp1f)\n",
       "  (at other1 scissors wp2f)\n",
       "  (at other2 tape wp3f)\n",
       ")\n",
       "(only_permissible_actions move_object move_to_container)\n",
       ";(move_object food1 container1)\n",
       ";(move_to_container food1 container1)\n",
       ";(move_object food2 container1)\n",
       ";(move_to_container food2 container1)\n",
       ";(move_object other1 wp1f)\n",
       ";(move_object other2 wp1f)\n",
       ")</td>\n",
       "    </tr>\n",
       "  </tbody>\n",
       "</table>\n"
      ],
      "text/plain": [
       "<IPython.core.display.HTML object>"
      ]
     },
     "metadata": {},
     "output_type": "display_data"
    }
   ],
   "source": [
    "import pandas as pd\n",
    "from IPython.display import display, HTML\n",
    "\n",
    "def compare_generations(base_gen, ft_gen):\n",
    "    # Ensure strings are displayed with line breaks\n",
    "    base_gen = base_gen.encode().decode('unicode_escape')\n",
    "    ft_gen = ft_gen.encode().decode('unicode_escape')\n",
    "\n",
    "    # Create a DataFrame\n",
    "    df = pd.DataFrame({\n",
    "        'Base Generation': [base_gen],\n",
    "        'Fine-tuned Generation': [ft_gen]\n",
    "    })\n",
    "\n",
    "    # Style the DataFrame for multiline rendering and fixed-width formatting\n",
    "    styled_df = df.style.set_table_styles([\n",
    "        {\n",
    "            'selector': 'td',\n",
    "            'props': [\n",
    "                ('text-align', 'left'),\n",
    "                ('white-space', 'pre-wrap'),\n",
    "                ('font-family', '\"Courier New\", monospace'),\n",
    "                ('border', '1px solid black'),\n",
    "                ('padding', '10px'),\n",
    "                ('vertical-align', 'top'),\n",
    "                ('width', '500px'),  # adjust width as needed\n",
    "                ('overflow-wrap', 'break-word')\n",
    "            ]\n",
    "        },\n",
    "        {\n",
    "            'selector': 'th',\n",
    "            'props': [\n",
    "                ('text-align', 'left'),\n",
    "                ('font-family', '\"Courier New\", monospace'),\n",
    "                ('border', '1px solid black'),\n",
    "                ('padding', '10px')\n",
    "            ]\n",
    "        }\n",
    "    ])\n",
    "\n",
    "    # Display in notebook or IPython\n",
    "    display(HTML(styled_df.to_html()))\n",
    "\n",
    "compare_generations(original_hddl[0], ft_hddl[0])\n"
   ]
  }
 ],
 "metadata": {
  "kernelspec": {
   "display_name": "rosa",
   "language": "python",
   "name": "python3"
  },
  "language_info": {
   "codemirror_mode": {
    "name": "ipython",
    "version": 3
   },
   "file_extension": ".py",
   "mimetype": "text/x-python",
   "name": "python",
   "nbconvert_exporter": "python",
   "pygments_lexer": "ipython3",
   "version": "3.10.14"
  }
 },
 "nbformat": 4,
 "nbformat_minor": 5
}
