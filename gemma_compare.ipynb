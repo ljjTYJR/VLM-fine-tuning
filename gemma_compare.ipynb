{
 "cells": [
  {
   "cell_type": "code",
   "execution_count": null,
   "id": "808a11d3",
   "metadata": {},
   "outputs": [],
   "source": [
    "import os\n",
    "from datasets import load_dataset\n",
    "from omegaconf import DictConfig, OmegaConf\n",
    "# from gemma_ft_src.sft_trainer import CustomSFTTrainer\n",
    "from gemma_ft_src.model import Model\n",
    "import torch"
   ]
  },
  {
   "cell_type": "code",
   "execution_count": null,
   "id": "405b3bad",
   "metadata": {},
   "outputs": [],
   "source": [
    "cfg = OmegaConf.load(\"cfg/gemma3-vl_train_0.yaml\")\n",
    "# 1. load the model\n",
    "vlm_model = Model(cfg)\n",
    "\n",
    "# 2. load the data\n",
    "dataset = load_dataset(cfg.dataset.dataset_id, split='train')\n",
    "data_sample = dataset[120]"
   ]
  },
  {
   "cell_type": "code",
   "execution_count": null,
   "id": "dee50dcb",
   "metadata": {},
   "outputs": [],
   "source": [
    "from gemma_ft_src.sft_dataset import generate_description"
   ]
  },
  {
   "cell_type": "code",
   "execution_count": null,
   "id": "3c07595c",
   "metadata": {},
   "outputs": [],
   "source": [
    "original_hddl = generate_description(data_sample, vlm_model.model, vlm_model.processor, cfg.dataset.prompt_index)"
   ]
  },
  {
   "cell_type": "code",
   "execution_count": null,
   "id": "cf1807bb",
   "metadata": {},
   "outputs": [],
   "source": [
    "# format and visualize the result\n",
    "import pandas as pd\n",
    "from IPython.display import display, HTML\n",
    "\n",
    "def compare_generations(base_gen, ft_gen=None):\n",
    "    # Ensure strings are displayed with line breaks\n",
    "    base_gen = base_gen.encode().decode('unicode_escape')\n",
    "    # ft_gen = ft_gen.encode().decode('unicode_escape')\n",
    "\n",
    "    # Create a DataFrame\n",
    "    df = pd.DataFrame({\n",
    "        'Base Generation': [base_gen],\n",
    "        # 'Fine-tuned Generation': [ft_gen]\n",
    "    })\n",
    "\n",
    "    # Style the DataFrame for multiline rendering and fixed-width formatting\n",
    "    styled_df = df.style.set_table_styles([\n",
    "        {\n",
    "            'selector': 'td',\n",
    "            'props': [\n",
    "                ('text-align', 'left'),\n",
    "                ('white-space', 'pre-wrap'),\n",
    "                ('font-family', '\"Courier New\", monospace'),\n",
    "                ('border', '1px solid black'),\n",
    "                ('padding', '10px'),\n",
    "                ('vertical-align', 'top'),\n",
    "                ('width', '500px'),  # adjust width as needed\n",
    "                ('overflow-wrap', 'break-word')\n",
    "            ]\n",
    "        },\n",
    "        {\n",
    "            'selector': 'th',\n",
    "            'props': [\n",
    "                ('text-align', 'left'),\n",
    "                ('font-family', '\"Courier New\", monospace'),\n",
    "                ('border', '1px solid black'),\n",
    "                ('padding', '10px')\n",
    "            ]\n",
    "        }\n",
    "    ])\n",
    "\n",
    "    # Display in notebook or IPython\n",
    "    display(HTML(styled_df.to_html()))\n",
    "\n",
    "compare_generations(original_hddl[0])"
   ]
  }
 ],
 "metadata": {
  "kernelspec": {
   "display_name": ".venv",
   "language": "python",
   "name": "python3"
  },
  "language_info": {
   "codemirror_mode": {
    "name": "ipython",
    "version": 3
   },
   "file_extension": ".py",
   "mimetype": "text/x-python",
   "name": "python",
   "nbconvert_exporter": "python",
   "pygments_lexer": "ipython3",
   "version": "3.10.16"
  }
 },
 "nbformat": 4,
 "nbformat_minor": 5
}
